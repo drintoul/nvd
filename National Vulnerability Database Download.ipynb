{
 "cells": [
  {
   "cell_type": "markdown",
   "id": "eff0798c",
   "metadata": {},
   "source": [
    "# National Vulnerability Database Download"
   ]
  },
  {
   "cell_type": "markdown",
   "id": "7aef29c9",
   "metadata": {},
   "source": [
    "## Imports"
   ]
  },
  {
   "cell_type": "code",
   "execution_count": 1,
   "id": "7e72a2a0",
   "metadata": {},
   "outputs": [],
   "source": [
    "from datetime import datetime, timedelta\n",
    "import requests\n",
    "import time\n",
    "import pandas as pd\n",
    "import os"
   ]
  },
  {
   "cell_type": "markdown",
   "id": "b3b0333d",
   "metadata": {},
   "source": [
    "## Format URL for Request"
   ]
  },
  {
   "cell_type": "code",
   "execution_count": 2,
   "id": "f436c262",
   "metadata": {},
   "outputs": [],
   "source": [
    "def formatURL(modEndDate):\n",
    "    \n",
    "    \"\"\"\n",
    "    pass modEndDate as datetime and return formatted URL\n",
    "    \"\"\"\n",
    "    \n",
    "    # set constants\n",
    "    base_url = \"https://services.nvd.nist.gov/rest/json/cves/1.0\"\n",
    "    apiKey = \"06cc14f7-5eef-4379-9210-1ab6ddf8c234\"\n",
    "    resultsPerPage = 2000 \n",
    "    \n",
    "    # modStartDate is one day before modEndDate\n",
    "    modStartDate = (modEndDate - timedelta(days = 1)).strftime(\"%Y-%m-%dT00:00:00:000 UTC\")\n",
    "    modEndDate = modEndDate.strftime(\"%Y-%m-%dT00:00:00:000 UTC\")\n",
    "\n",
    "    # format URL\n",
    "    url = f\"{base_url}?apiKey={apiKey}&modStartDate={modStartDate}&modEndDate={modEndDate}&resultsPerPage={resultsPerPage}\"\n",
    "\n",
    "    return url"
   ]
  },
  {
   "cell_type": "markdown",
   "id": "a64aa5d6",
   "metadata": {},
   "source": [
    "## Determine what to parse"
   ]
  },
  {
   "cell_type": "markdown",
   "id": "d15b87ec",
   "metadata": {},
   "source": [
    "import json\n",
    "json_string = '{\"cve\": {\"data_type\": \"CVE\", \"data_format\": \"MITRE\", \"data_version\": \"4.0\", \"CVE_data_meta\": {\"ID\": \"CVE-2021-34357\", \"ASSIGNER\": \"security@qnap.com\", \"publishedDate\": \"2021-11-13\", \"lastModifiedDate\": \"2021-11-13\"}, \"problemtype\": {\"problemtype_data\": [{\"description\": [{\"lang\": \"en\", \"value\": \"CWE-79\"}]}]}, \"references\": {\"reference_data\": [{\"url\": \"https://www.qnap.com/en/security-advisory/qsa-21-47\", \"name\": \"https://www.qnap.com/en/security-advisory/qsa-21-47\", \"refsource\": \"MISC\", \"tags\": []}]}, \"description\": {\"description_data\": [{\"lang\": \"en\", \"value\": \"A cross-site scripting (XSS) vulnerability has been reported to affect QNAP device running QmailAgent. If exploited, this vulnerability allows remote attackers to inject malicious code. We have already fixed this vulnerability in the following versions of QmailAgent: QmailAgent 3.0.2 ( 2021/08/25 ) and later\"}]}}, \"configurations\": {\"CVE_data_version\": \"4.0\", \"nodes\": []}, \"impact\": {}, \"publishedDate\": \"2021-11-13T01:15Z\", \"lastModifiedDate\": \"2021-11-13T01:15Z\"}'\n",
    "json_obj = json.loads(json_string)"
   ]
  },
  {
   "cell_type": "markdown",
   "id": "7123d82a",
   "metadata": {},
   "source": [
    "json_obj['cve']['problemtype']"
   ]
  },
  {
   "cell_type": "markdown",
   "id": "18d8e8b4",
   "metadata": {},
   "source": [
    "## Parse CVEs"
   ]
  },
  {
   "cell_type": "code",
   "execution_count": 3,
   "id": "af6d3466",
   "metadata": {},
   "outputs": [],
   "source": [
    "with open('cwes.csv', 'w') as f:\n",
    "    f.write(\"CVE_ID, CWE_ID\\n\")"
   ]
  },
  {
   "cell_type": "code",
   "execution_count": 4,
   "id": "4861521b",
   "metadata": {},
   "outputs": [],
   "source": [
    "def flattenCVE(cve):\n",
    "    \n",
    "    \"\"\"\n",
    "    pull out CVE ID, cvss vector info\n",
    "    \"\"\"\n",
    "    \n",
    "    data = cve[\"cve\"][\"CVE_data_meta\"]\n",
    "    data['publishedDate'] = datetime.strptime(cve[\"publishedDate\"], \"%Y-%m-%dT%H:%MZ\").strftime('%Y-%m-%d')\n",
    "    data['lastModifiedDate'] = datetime.strptime(cve[\"lastModifiedDate\"], \"%Y-%m-%dT%H:%MZ\").strftime('%Y-%m-%d')\n",
    "    \n",
    "    # extract cwe info (if available)\n",
    "    try:\n",
    "        \n",
    "        with open('cwes.csv', 'a') as f:\n",
    "            cwes = cve['cve']['problemtype']['problemtype_data'][0]['description']\n",
    "            for cwe in cwes:\n",
    "                f.write(f\"{data['ID']}, {cwe['value']}\\n\")\n",
    "                \n",
    "    except Exception as error:\n",
    "        pass\n",
    "    \n",
    "    # extract cvss v2 info (if available)\n",
    "    try:\n",
    "        \n",
    "        cvssv2 = cve[\"impact\"][\"baseMetricV2\"][\"cvssV2\"]\n",
    "        cvssv2 = {\"v2_\" + str(key): val for key, val in cvssv2.items()}\n",
    "        data.update(cvssv2)\n",
    "        \n",
    "    except Exception as error:\n",
    "        pass\n",
    "        \n",
    "    # extract cvss v3 info (if available)\n",
    "    try:\n",
    "        \n",
    "        cvssv3 = cve[\"impact\"][\"baseMetricV3\"][\"cvssV3\"]\n",
    "        cvssv3 = {\"v3_\" + str(key): val for key, val in cvssv3.items()}\n",
    "        data.update(cvssv3)\n",
    "    \n",
    "    except Exception as error:\n",
    "        pass\n",
    "    \n",
    "    # create and return pandas dataframe\n",
    "    return pd.DataFrame(data.items()).set_index(0).T"
   ]
  },
  {
   "cell_type": "markdown",
   "id": "46c0377f",
   "metadata": {},
   "source": [
    "## Iterate over Dates"
   ]
  },
  {
   "cell_type": "code",
   "execution_count": 5,
   "id": "cba7c3c5",
   "metadata": {
    "scrolled": true
   },
   "outputs": [],
   "source": [
    "def main(startDate):\n",
    "    \n",
    "    \"\"\"\n",
    "    Main Process\n",
    "    \"\"\"\n",
    "    \n",
    "    # create empty pandas dataframe\n",
    "    df2 = pd.DataFrame()\n",
    "\n",
    "    t1 = datetime.now()\n",
    "    print (f\"Starting at {t1.strftime('%H:%M:%S')}\")\n",
    "\n",
    "    # advance date until today\n",
    "    while startDate < datetime.today():\n",
    "    \n",
    "        print (f\"\\rNow processing: {startDate.strftime('%Y-%m-%d')}\", end=\"\")\n",
    "    \n",
    "        # format URL\n",
    "        url = formatURL(startDate)\n",
    "    \n",
    "        # get results for date\n",
    "        result = requests.get(url).json()['result']['CVE_Items']\n",
    "    \n",
    "        # flatten result\n",
    "        for item in result:\n",
    "        \n",
    "            row = flattenCVE(item)\n",
    "            df2 = df2.append(row)\n",
    "    \n",
    "        time.sleep(5)\n",
    "    \n",
    "        startDate += timedelta(days = 1)\n",
    "\n",
    "    t2 = datetime.now()\n",
    "    print (f\"\\nEnded at {t2.strftime('%H:%M:%S')}\")\n",
    "    print (f\"Elapsed time: {int((t2-t1).seconds/60)}:{(t2-t1).seconds%60}\")\n",
    "    \n",
    "    return df2"
   ]
  },
  {
   "cell_type": "markdown",
   "id": "6bbcd3e9",
   "metadata": {},
   "source": [
    "## Write results to file(s)"
   ]
  },
  {
   "cell_type": "code",
   "execution_count": 6,
   "id": "3711de45",
   "metadata": {},
   "outputs": [],
   "source": [
    "filename = \"cves.csv\""
   ]
  },
  {
   "cell_type": "code",
   "execution_count": 7,
   "id": "711350b8",
   "metadata": {},
   "outputs": [
    {
     "name": "stdout",
     "output_type": "stream",
     "text": [
      "Starting at 21:47:02\n",
      "Now processing: 2021-11-15\n",
      "Ended at 03:56:10\n",
      "Elapsed time: 369:7\n"
     ]
    }
   ],
   "source": [
    "if os.path.exists(filename):\n",
    "     \n",
    "    # Set startDate to be 3 days before file last modified date\n",
    "    lastmoddate = (datetime.fromtimestamp(os.path.getmtime(filename))-timedelta(days=3)).strftime(\"%Y-%m-%d\")\n",
    "    startDate = datetime.strptime(lastmoddate, \"%Y-%m-%d\")\n",
    "\n",
    "    with open(filename, \"rt\") as file:\n",
    "        df1 = pd.read_csv(file) \n",
    "    \n",
    "    df2 = main(startDate)\n",
    "\n",
    "    # Eliminate all but the last duplicate; Merge existing file with new data\n",
    "    df3 = pd.concat([df1, df2])\n",
    "    df3.drop_duplicates(subset=[\"ID\"], keep=\"last\", inplace=True)\n",
    "    df3.rename(columns={'ID': 'CVE_ID'}, inplace=True)\n",
    "    df3.to_csv(filename, index=False)\n",
    "    \n",
    "else:\n",
    "    \n",
    "    # Start date equals way back\n",
    "    #startDate = datetime.strptime(\"2000-01-01\", \"%Y-%m-%d\")\n",
    "    startDate = datetime.strptime(\"2015-01-01\", \"%Y-%m-%d\")\n",
    "    \n",
    "    df2 = main(startDate)\n",
    "\n",
    "    # Eliminate all but the last duplicate; Create new file\n",
    "    df2.drop_duplicates(subset=[\"ID\"], keep=\"last\", inplace=True)\n",
    "    df2.rename(columns={'ID': 'CVE_ID'}, inplace=True)\n",
    "    df2.to_csv(filename, index=False)"
   ]
  },
  {
   "cell_type": "markdown",
   "id": "ee7b85a3",
   "metadata": {},
   "source": [
    "## Automatically upload file to Google Drive"
   ]
  },
  {
   "cell_type": "markdown",
   "id": "043c0ae1",
   "metadata": {},
   "source": [
    "%pip install pydrive"
   ]
  },
  {
   "cell_type": "markdown",
   "id": "d0ab2849",
   "metadata": {},
   "source": [
    "from pydrive.auth import GoogleAuth\n",
    "from pydrive.drive import GoogleDrive\n",
    "\n",
    "gauth = GoogleAuth()\n",
    "drive = GoogleDrive(gauth)\n",
    "\n",
    "gfile = drive.CreateFile({'parents': [{'id': '1b69zGZ7eTGufBdwP7NezLBeTpt0Xs0j1'}]})\n",
    "gfile.SetContentFile(filename)\n",
    "gfile.Upload()"
   ]
  },
  {
   "cell_type": "code",
   "execution_count": null,
   "id": "1ace5499",
   "metadata": {},
   "outputs": [],
   "source": []
  }
 ],
 "metadata": {
  "kernelspec": {
   "display_name": "webscraping",
   "language": "python",
   "name": "webscraping"
  },
  "language_info": {
   "codemirror_mode": {
    "name": "ipython",
    "version": 3
   },
   "file_extension": ".py",
   "mimetype": "text/x-python",
   "name": "python",
   "nbconvert_exporter": "python",
   "pygments_lexer": "ipython3",
   "version": "3.8.8"
  }
 },
 "nbformat": 4,
 "nbformat_minor": 5
}
