{
 "cells": [
  {
   "cell_type": "code",
   "execution_count": 27,
   "id": "2c62b026",
   "metadata": {},
   "outputs": [],
   "source": [
    "import os\n",
    "import pandas as pd"
   ]
  },
  {
   "cell_type": "code",
   "execution_count": 28,
   "id": "c57ffee9",
   "metadata": {},
   "outputs": [
    {
     "name": "stdout",
     "output_type": "stream",
     "text": [
      "1000.csv\n",
      "1194.csv\n",
      "699.csv\n"
     ]
    }
   ],
   "source": [
    "df = pd.DataFrame()\n",
    "\n",
    "for file in [file for file in os.listdir() if file.endswith('csv') and not file.startswith('cwe')]:\n",
    "    \n",
    "    print (file)\n",
    "    df = pd.concat([df, pd.read_csv(file, index_col=False)], ignore_index=True)"
   ]
  },
  {
   "cell_type": "code",
   "execution_count": 29,
   "id": "25e1afb9",
   "metadata": {},
   "outputs": [],
   "source": [
    "df.rename(columns={'CWE-ID': 'CWE_ID'}, inplace=True)\n",
    "df.to_csv('cwe_descriptions.csv', index=False)"
   ]
  }
 ],
 "metadata": {
  "kernelspec": {
   "display_name": "Python 3",
   "language": "python",
   "name": "python3"
  },
  "language_info": {
   "codemirror_mode": {
    "name": "ipython",
    "version": 3
   },
   "file_extension": ".py",
   "mimetype": "text/x-python",
   "name": "python",
   "nbconvert_exporter": "python",
   "pygments_lexer": "ipython3",
   "version": "3.8.8"
  }
 },
 "nbformat": 4,
 "nbformat_minor": 5
}
